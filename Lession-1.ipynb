{
 "cells": [
  {
   "cell_type": "code",
   "execution_count": null,
   "metadata": {
    "id": "mSMUYOEAjpgr"
   },
   "outputs": [],
   "source": []
  },
  {
   "cell_type": "markdown",
   "metadata": {
    "id": "clNSEVT8iqWY"
   },
   "source": [
    "\n",
    "* Data types\n",
    "    * Numbers\n",
    "    * Strings\n",
    "    * Printing\n",
    "    * Lists\n",
    "    * Dictionaries\n",
    "    * Booleans\n",
    "    * Tuples \n",
    "    * Sets"
   ]
  },
  {
   "cell_type": "markdown",
   "metadata": {
    "id": "5D8mkqw7iqWa"
   },
   "source": [
    "## Data types\n",
    "\n",
    "### Numbers"
   ]
  },
  {
   "cell_type": "code",
   "execution_count": null,
   "metadata": {
    "colab": {
     "base_uri": "https://localhost:8080/"
    },
    "executionInfo": {
     "elapsed": 4,
     "status": "ok",
     "timestamp": 1679912028023,
     "user": {
      "displayName": "Siddhartha Dubey",
      "userId": "09354983140130279804"
     },
     "user_tz": -330
    },
    "id": "NW6SDWO3iqWa",
    "outputId": "3bf19a27-d5f4-49b9-adda-6ebe3f0d5340"
   },
   "outputs": [
    {
     "data": {
      "text/plain": [
       "16"
      ]
     },
     "execution_count": 1,
     "metadata": {},
     "output_type": "execute_result"
    }
   ],
   "source": [
    "15 + 1"
   ]
  },
  {
   "cell_type": "code",
   "execution_count": null,
   "metadata": {
    "colab": {
     "base_uri": "https://localhost:8080/"
    },
    "executionInfo": {
     "elapsed": 371,
     "status": "ok",
     "timestamp": 1679912039762,
     "user": {
      "displayName": "Siddhartha Dubey",
      "userId": "09354983140130279804"
     },
     "user_tz": -330
    },
    "id": "5bnpzE6PiqWa",
    "outputId": "48e10dac-0851-4d29-96e6-01bb990b7c92"
   },
   "outputs": [
    {
     "data": {
      "text/plain": [
       "3"
      ]
     },
     "execution_count": 3,
     "metadata": {},
     "output_type": "execute_result"
    }
   ],
   "source": [
    "1 * 3"
   ]
  },
  {
   "cell_type": "code",
   "execution_count": null,
   "metadata": {
    "colab": {
     "base_uri": "https://localhost:8080/"
    },
    "executionInfo": {
     "elapsed": 1,
     "status": "ok",
     "timestamp": 1679912040672,
     "user": {
      "displayName": "Siddhartha Dubey",
      "userId": "09354983140130279804"
     },
     "user_tz": -330
    },
    "id": "ieEwIyI1iqWb",
    "outputId": "cce2caa9-6d9b-4d41-a6b8-cf6391af268b"
   },
   "outputs": [
    {
     "data": {
      "text/plain": [
       "0.5"
      ]
     },
     "execution_count": 4,
     "metadata": {},
     "output_type": "execute_result"
    }
   ],
   "source": [
    "1 / 2"
   ]
  },
  {
   "cell_type": "code",
   "execution_count": null,
   "metadata": {
    "colab": {
     "base_uri": "https://localhost:8080/"
    },
    "executionInfo": {
     "elapsed": 7,
     "status": "ok",
     "timestamp": 1679912041799,
     "user": {
      "displayName": "Siddhartha Dubey",
      "userId": "09354983140130279804"
     },
     "user_tz": -330
    },
    "id": "hka-s2u8iqWb",
    "outputId": "1b1303ae-6c50-4726-f8ec-7b7fc16d247f"
   },
   "outputs": [
    {
     "data": {
      "text/plain": [
       "16"
      ]
     },
     "execution_count": 5,
     "metadata": {},
     "output_type": "execute_result"
    }
   ],
   "source": [
    "2 ** 4"
   ]
  },
  {
   "cell_type": "code",
   "execution_count": null,
   "metadata": {
    "colab": {
     "base_uri": "https://localhost:8080/"
    },
    "executionInfo": {
     "elapsed": 6,
     "status": "ok",
     "timestamp": 1679912041799,
     "user": {
      "displayName": "Siddhartha Dubey",
      "userId": "09354983140130279804"
     },
     "user_tz": -330
    },
    "id": "37RtwQ1viqWb",
    "outputId": "10af657d-78d5-4d2c-c328-a3eb02cca08e"
   },
   "outputs": [
    {
     "data": {
      "text/plain": [
       "0"
      ]
     },
     "execution_count": 6,
     "metadata": {},
     "output_type": "execute_result"
    }
   ],
   "source": [
    "4 % 2"
   ]
  },
  {
   "cell_type": "code",
   "execution_count": null,
   "metadata": {
    "colab": {
     "base_uri": "https://localhost:8080/"
    },
    "executionInfo": {
     "elapsed": 4,
     "status": "ok",
     "timestamp": 1679912041800,
     "user": {
      "displayName": "Siddhartha Dubey",
      "userId": "09354983140130279804"
     },
     "user_tz": -330
    },
    "id": "OwjDcCKviqWb",
    "outputId": "ae323724-ef68-454e-93bf-5bdabae0e7b9"
   },
   "outputs": [
    {
     "data": {
      "text/plain": [
       "1"
      ]
     },
     "execution_count": 7,
     "metadata": {},
     "output_type": "execute_result"
    }
   ],
   "source": [
    "5 % 2"
   ]
  },
  {
   "cell_type": "code",
   "execution_count": null,
   "metadata": {
    "colab": {
     "base_uri": "https://localhost:8080/"
    },
    "executionInfo": {
     "elapsed": 3,
     "status": "ok",
     "timestamp": 1679912041800,
     "user": {
      "displayName": "Siddhartha Dubey",
      "userId": "09354983140130279804"
     },
     "user_tz": -330
    },
    "id": "vT7J2tNHiqWb",
    "outputId": "76fd1aa6-c8d8-4d9a-cebf-94add46a8ff1"
   },
   "outputs": [
    {
     "data": {
      "text/plain": [
       "50"
      ]
     },
     "execution_count": 8,
     "metadata": {},
     "output_type": "execute_result"
    }
   ],
   "source": [
    "(2 + 3) * (5 + 5)"
   ]
  },
  {
   "cell_type": "markdown",
   "metadata": {
    "id": "XAs5R-XjiqWb"
   },
   "source": [
    "### Variable Assignment"
   ]
  },
  {
   "cell_type": "code",
   "execution_count": null,
   "metadata": {
    "collapsed": true,
    "id": "zZH7C2ghiqWb",
    "jupyter": {
     "outputs_hidden": true
    }
   },
   "outputs": [],
   "source": [
    "# Can not start with number or special characters\n",
    "siddhartha_age = 23"
   ]
  },
  {
   "cell_type": "code",
   "execution_count": null,
   "metadata": {
    "collapsed": true,
    "id": "smIO9bOOiqWc",
    "jupyter": {
     "outputs_hidden": true
    }
   },
   "outputs": [],
   "source": [
    "x = 2\n",
    "y = 3"
   ]
  },
  {
   "cell_type": "code",
   "execution_count": null,
   "metadata": {
    "collapsed": true,
    "id": "iioH3IrNiqWc",
    "jupyter": {
     "outputs_hidden": true
    }
   },
   "outputs": [],
   "source": [
    "z = x + y"
   ]
  },
  {
   "cell_type": "code",
   "execution_count": null,
   "metadata": {
    "colab": {
     "base_uri": "https://localhost:8080/"
    },
    "executionInfo": {
     "elapsed": 3,
     "status": "ok",
     "timestamp": 1679912071040,
     "user": {
      "displayName": "Siddhartha Dubey",
      "userId": "09354983140130279804"
     },
     "user_tz": -330
    },
    "id": "UpESZImniqWc",
    "outputId": "32c5f911-5cd0-4a80-fcaa-a80795e36852"
   },
   "outputs": [
    {
     "data": {
      "text/plain": [
       "5"
      ]
     },
     "execution_count": 13,
     "metadata": {},
     "output_type": "execute_result"
    }
   ],
   "source": [
    "z"
   ]
  },
  {
   "cell_type": "markdown",
   "metadata": {
    "id": "55AHV1jYiqWc"
   },
   "source": [
    "### Strings"
   ]
  },
  {
   "cell_type": "code",
   "execution_count": null,
   "metadata": {
    "colab": {
     "base_uri": "https://localhost:8080/",
     "height": 35
    },
    "executionInfo": {
     "elapsed": 5,
     "status": "ok",
     "timestamp": 1679912091267,
     "user": {
      "displayName": "Siddhartha Dubey",
      "userId": "09354983140130279804"
     },
     "user_tz": -330
    },
    "id": "Ka99oQaziqWc",
    "outputId": "e473ee9a-e27d-4ca7-ddaa-3a31828e63a8"
   },
   "outputs": [
    {
     "data": {
      "application/vnd.google.colaboratory.intrinsic+json": {
       "type": "string"
      },
      "text/plain": [
       "'single quotes'"
      ]
     },
     "execution_count": 14,
     "metadata": {},
     "output_type": "execute_result"
    }
   ],
   "source": [
    "'single quotes'"
   ]
  },
  {
   "cell_type": "code",
   "execution_count": null,
   "metadata": {
    "colab": {
     "base_uri": "https://localhost:8080/",
     "height": 35
    },
    "executionInfo": {
     "elapsed": 3,
     "status": "ok",
     "timestamp": 1679912091267,
     "user": {
      "displayName": "Siddhartha Dubey",
      "userId": "09354983140130279804"
     },
     "user_tz": -330
    },
    "id": "oPmVXsXYiqWc",
    "outputId": "1e1687ee-2792-4820-ac20-05e2bd00db55"
   },
   "outputs": [
    {
     "data": {
      "application/vnd.google.colaboratory.intrinsic+json": {
       "type": "string"
      },
      "text/plain": [
       "'double quotes'"
      ]
     },
     "execution_count": 15,
     "metadata": {},
     "output_type": "execute_result"
    }
   ],
   "source": [
    "\"double quotes\""
   ]
  },
  {
   "cell_type": "code",
   "execution_count": null,
   "metadata": {
    "colab": {
     "base_uri": "https://localhost:8080/",
     "height": 35
    },
    "executionInfo": {
     "elapsed": 2,
     "status": "ok",
     "timestamp": 1679912092554,
     "user": {
      "displayName": "Siddhartha Dubey",
      "userId": "09354983140130279804"
     },
     "user_tz": -330
    },
    "id": "4Yjd2EawiqWc",
    "outputId": "85835458-4374-48c1-da83-56e2975c9bdd"
   },
   "outputs": [
    {
     "data": {
      "application/vnd.google.colaboratory.intrinsic+json": {
       "type": "string"
      },
      "text/plain": [
       "\" wrap lot's of other quotes\""
      ]
     },
     "execution_count": 16,
     "metadata": {},
     "output_type": "execute_result"
    }
   ],
   "source": [
    "\n",
    "\" wrap lot's of other quotes\""
   ]
  },
  {
   "cell_type": "markdown",
   "metadata": {
    "id": "aizT7ReQiqWc"
   },
   "source": [
    "### Printing"
   ]
  },
  {
   "cell_type": "code",
   "execution_count": null,
   "metadata": {
    "collapsed": true,
    "id": "gALQETmLiqWc",
    "jupyter": {
     "outputs_hidden": true
    }
   },
   "outputs": [],
   "source": [
    "x = 'hello siddhartha'"
   ]
  },
  {
   "cell_type": "code",
   "execution_count": null,
   "metadata": {
    "colab": {
     "base_uri": "https://localhost:8080/",
     "height": 35
    },
    "executionInfo": {
     "elapsed": 3,
     "status": "ok",
     "timestamp": 1679912107665,
     "user": {
      "displayName": "Siddhartha Dubey",
      "userId": "09354983140130279804"
     },
     "user_tz": -330
    },
    "id": "X_nynGk4iqWd",
    "outputId": "4b47a340-75ea-48fc-9955-401943dd3352"
   },
   "outputs": [
    {
     "data": {
      "application/vnd.google.colaboratory.intrinsic+json": {
       "type": "string"
      },
      "text/plain": [
       "'hello siddhartha'"
      ]
     },
     "execution_count": 19,
     "metadata": {},
     "output_type": "execute_result"
    }
   ],
   "source": [
    "x"
   ]
  },
  {
   "cell_type": "code",
   "execution_count": null,
   "metadata": {
    "colab": {
     "base_uri": "https://localhost:8080/"
    },
    "executionInfo": {
     "elapsed": 2,
     "status": "ok",
     "timestamp": 1679912104481,
     "user": {
      "displayName": "Siddhartha Dubey",
      "userId": "09354983140130279804"
     },
     "user_tz": -330
    },
    "id": "wGcmOpdZiqWd",
    "outputId": "0eb1de40-be02-4a71-d3b9-8578f2d87503"
   },
   "outputs": [
    {
     "name": "stdout",
     "output_type": "stream",
     "text": [
      "hello siddhartha\n"
     ]
    }
   ],
   "source": [
    "print(x)"
   ]
  },
  {
   "cell_type": "code",
   "execution_count": null,
   "metadata": {
    "collapsed": true,
    "id": "4oS_yoHCiqWd",
    "jupyter": {
     "outputs_hidden": true
    }
   },
   "outputs": [],
   "source": [
    "rn = 15\n",
    "name = 'Siddhartha Dubey'"
   ]
  },
  {
   "cell_type": "code",
   "execution_count": null,
   "metadata": {
    "colab": {
     "base_uri": "https://localhost:8080/"
    },
    "executionInfo": {
     "elapsed": 1,
     "status": "ok",
     "timestamp": 1679912158428,
     "user": {
      "displayName": "Siddhartha Dubey",
      "userId": "09354983140130279804"
     },
     "user_tz": -330
    },
    "id": "xuYodxMsiqWd",
    "outputId": "c3293f02-123c-4f5a-bbe8-32ca3d683d20"
   },
   "outputs": [
    {
     "name": "stdout",
     "output_type": "stream",
     "text": [
      "My roll number number is: 15, and my name is: Siddhartha Dubey\n"
     ]
    }
   ],
   "source": [
    "print('My roll number number is: {one}, and my name is: {two}'.format(one=rn,two=name))"
   ]
  },
  {
   "cell_type": "code",
   "execution_count": null,
   "metadata": {
    "colab": {
     "base_uri": "https://localhost:8080/"
    },
    "executionInfo": {
     "elapsed": 2,
     "status": "ok",
     "timestamp": 1679912167369,
     "user": {
      "displayName": "Siddhartha Dubey",
      "userId": "09354983140130279804"
     },
     "user_tz": -330
    },
    "id": "pDm3eIqQiqWd",
    "outputId": "13d31fc0-51ac-4f56-8444-1731cb18b2fb"
   },
   "outputs": [
    {
     "name": "stdout",
     "output_type": "stream",
     "text": [
      "My number is: 15, and my name is: Siddhartha Dubey\n"
     ]
    }
   ],
   "source": [
    "print('My number is: {}, and my name is: {}'.format(rn,name))"
   ]
  },
  {
   "cell_type": "markdown",
   "metadata": {
    "id": "3Ulm-1uriqWd"
   },
   "source": [
    "### Lists"
   ]
  },
  {
   "cell_type": "code",
   "execution_count": null,
   "metadata": {
    "id": "9MC6NCqdiqWd",
    "outputId": "46054f5a-c1d4-40a5-c712-9c9b74100a7b"
   },
   "outputs": [
    {
     "data": {
      "text/plain": [
       "[1, 2, 3]"
      ]
     },
     "execution_count": 26,
     "metadata": {},
     "output_type": "execute_result"
    }
   ],
   "source": [
    "[1,2,3]"
   ]
  },
  {
   "cell_type": "code",
   "execution_count": null,
   "metadata": {
    "colab": {
     "base_uri": "https://localhost:8080/"
    },
    "executionInfo": {
     "elapsed": 974,
     "status": "ok",
     "timestamp": 1679912183757,
     "user": {
      "displayName": "Siddhartha Dubey",
      "userId": "09354983140130279804"
     },
     "user_tz": -330
    },
    "id": "3y1T8sW1iqWd",
    "outputId": "eb68a0ac-d0d7-47bf-8e6d-ecfa3cac59bc"
   },
   "outputs": [
    {
     "data": {
      "text/plain": [
       "['siddhartha', 1, [1, 2]]"
      ]
     },
     "execution_count": 25,
     "metadata": {},
     "output_type": "execute_result"
    }
   ],
   "source": [
    "['siddhartha',1,[1,2]]"
   ]
  },
  {
   "cell_type": "code",
   "execution_count": null,
   "metadata": {
    "collapsed": true,
    "id": "dTgh1SWEiqWd",
    "jupyter": {
     "outputs_hidden": true
    }
   },
   "outputs": [],
   "source": [
    "my_list = ['a','b','c']"
   ]
  },
  {
   "cell_type": "code",
   "execution_count": null,
   "metadata": {
    "collapsed": true,
    "id": "N3dsKLnKiqWd",
    "jupyter": {
     "outputs_hidden": true
    }
   },
   "outputs": [],
   "source": [
    "my_list.append('d')"
   ]
  },
  {
   "cell_type": "code",
   "execution_count": null,
   "metadata": {
    "colab": {
     "base_uri": "https://localhost:8080/"
    },
    "executionInfo": {
     "elapsed": 2,
     "status": "ok",
     "timestamp": 1679912188395,
     "user": {
      "displayName": "Siddhartha Dubey",
      "userId": "09354983140130279804"
     },
     "user_tz": -330
    },
    "id": "rK2Jx_h7iqWd",
    "outputId": "7cecf8e0-1e68-4197-880a-141221d7babe"
   },
   "outputs": [
    {
     "data": {
      "text/plain": [
       "['a', 'b', 'c', 'd']"
      ]
     },
     "execution_count": 28,
     "metadata": {},
     "output_type": "execute_result"
    }
   ],
   "source": [
    "my_list"
   ]
  },
  {
   "cell_type": "code",
   "execution_count": null,
   "metadata": {
    "colab": {
     "base_uri": "https://localhost:8080/",
     "height": 35
    },
    "executionInfo": {
     "elapsed": 3,
     "status": "ok",
     "timestamp": 1679912190615,
     "user": {
      "displayName": "Siddhartha Dubey",
      "userId": "09354983140130279804"
     },
     "user_tz": -330
    },
    "id": "dJNyf1MXiqWd",
    "outputId": "d3539f43-2ebd-4c60-a486-f2a6c8f98dac"
   },
   "outputs": [
    {
     "data": {
      "application/vnd.google.colaboratory.intrinsic+json": {
       "type": "string"
      },
      "text/plain": [
       "'a'"
      ]
     },
     "execution_count": 29,
     "metadata": {},
     "output_type": "execute_result"
    }
   ],
   "source": [
    "my_list[0]"
   ]
  },
  {
   "cell_type": "code",
   "execution_count": null,
   "metadata": {
    "colab": {
     "base_uri": "https://localhost:8080/",
     "height": 35
    },
    "executionInfo": {
     "elapsed": 2,
     "status": "ok",
     "timestamp": 1679912192456,
     "user": {
      "displayName": "Siddhartha Dubey",
      "userId": "09354983140130279804"
     },
     "user_tz": -330
    },
    "id": "qjZajPYEiqWd",
    "outputId": "e16bbffa-a557-476e-ee53-5951086e0253"
   },
   "outputs": [
    {
     "data": {
      "application/vnd.google.colaboratory.intrinsic+json": {
       "type": "string"
      },
      "text/plain": [
       "'b'"
      ]
     },
     "execution_count": 30,
     "metadata": {},
     "output_type": "execute_result"
    }
   ],
   "source": [
    "my_list[1]"
   ]
  },
  {
   "cell_type": "code",
   "execution_count": null,
   "metadata": {
    "colab": {
     "base_uri": "https://localhost:8080/"
    },
    "executionInfo": {
     "elapsed": 3,
     "status": "ok",
     "timestamp": 1679912193311,
     "user": {
      "displayName": "Siddhartha Dubey",
      "userId": "09354983140130279804"
     },
     "user_tz": -330
    },
    "id": "TYh5b3FxiqWe",
    "outputId": "5754d11b-84ee-4c15-bb26-f8c9c9a603c9"
   },
   "outputs": [
    {
     "data": {
      "text/plain": [
       "['b', 'c', 'd']"
      ]
     },
     "execution_count": 31,
     "metadata": {},
     "output_type": "execute_result"
    }
   ],
   "source": [
    "my_list[1:]"
   ]
  },
  {
   "cell_type": "code",
   "execution_count": null,
   "metadata": {
    "colab": {
     "base_uri": "https://localhost:8080/"
    },
    "executionInfo": {
     "elapsed": 3,
     "status": "ok",
     "timestamp": 1679912193311,
     "user": {
      "displayName": "Siddhartha Dubey",
      "userId": "09354983140130279804"
     },
     "user_tz": -330
    },
    "id": "p42TJ7oeiqWe",
    "outputId": "f1c2a2bf-bf15-44c3-aa38-0659b2cf8f06"
   },
   "outputs": [
    {
     "data": {
      "text/plain": [
       "['a']"
      ]
     },
     "execution_count": 32,
     "metadata": {},
     "output_type": "execute_result"
    }
   ],
   "source": [
    "my_list[:1]"
   ]
  },
  {
   "cell_type": "code",
   "execution_count": null,
   "metadata": {
    "collapsed": true,
    "id": "osI-8De0iqWe",
    "jupyter": {
     "outputs_hidden": true
    }
   },
   "outputs": [],
   "source": [
    "my_list[0] = 'NEW'"
   ]
  },
  {
   "cell_type": "code",
   "execution_count": null,
   "metadata": {
    "colab": {
     "base_uri": "https://localhost:8080/"
    },
    "executionInfo": {
     "elapsed": 1,
     "status": "ok",
     "timestamp": 1679912210439,
     "user": {
      "displayName": "Siddhartha Dubey",
      "userId": "09354983140130279804"
     },
     "user_tz": -330
    },
    "id": "SizqZmb1iqWe",
    "outputId": "74f3fd65-e925-41c2-b39d-566a3f07366d"
   },
   "outputs": [
    {
     "data": {
      "text/plain": [
       "['NEW', 'b', 'c', 'd']"
      ]
     },
     "execution_count": 34,
     "metadata": {},
     "output_type": "execute_result"
    }
   ],
   "source": [
    "my_list"
   ]
  },
  {
   "cell_type": "code",
   "execution_count": null,
   "metadata": {
    "collapsed": true,
    "id": "IHes0dV8iqWe",
    "jupyter": {
     "outputs_hidden": true
    }
   },
   "outputs": [],
   "source": [
    "nest = [1,2,3,[4,5,['Dubey']]]"
   ]
  },
  {
   "cell_type": "code",
   "execution_count": null,
   "metadata": {
    "colab": {
     "base_uri": "https://localhost:8080/"
    },
    "executionInfo": {
     "elapsed": 1,
     "status": "ok",
     "timestamp": 1679912227562,
     "user": {
      "displayName": "Siddhartha Dubey",
      "userId": "09354983140130279804"
     },
     "user_tz": -330
    },
    "id": "nMzhjhmwiqWe",
    "outputId": "d5722fd5-b65e-4bc0-f5e6-a8834a6d7c1e"
   },
   "outputs": [
    {
     "data": {
      "text/plain": [
       "[4, 5, ['Dubey']]"
      ]
     },
     "execution_count": 36,
     "metadata": {},
     "output_type": "execute_result"
    }
   ],
   "source": [
    "nest[3]"
   ]
  },
  {
   "cell_type": "code",
   "execution_count": null,
   "metadata": {
    "colab": {
     "base_uri": "https://localhost:8080/"
    },
    "executionInfo": {
     "elapsed": 2,
     "status": "ok",
     "timestamp": 1679912228129,
     "user": {
      "displayName": "Siddhartha Dubey",
      "userId": "09354983140130279804"
     },
     "user_tz": -330
    },
    "id": "kJCK7RU4iqWe",
    "outputId": "1bfb48fb-fcdd-478f-8a8d-d01c5c74cb28"
   },
   "outputs": [
    {
     "data": {
      "text/plain": [
       "['Dubey']"
      ]
     },
     "execution_count": 37,
     "metadata": {},
     "output_type": "execute_result"
    }
   ],
   "source": [
    "nest[3][2]"
   ]
  },
  {
   "cell_type": "code",
   "execution_count": null,
   "metadata": {
    "colab": {
     "base_uri": "https://localhost:8080/",
     "height": 35
    },
    "executionInfo": {
     "elapsed": 2,
     "status": "ok",
     "timestamp": 1679912228587,
     "user": {
      "displayName": "Siddhartha Dubey",
      "userId": "09354983140130279804"
     },
     "user_tz": -330
    },
    "id": "t2l2yQPciqWe",
    "outputId": "66306c2d-2514-4c1b-f10a-2eb8679c76be"
   },
   "outputs": [
    {
     "data": {
      "application/vnd.google.colaboratory.intrinsic+json": {
       "type": "string"
      },
      "text/plain": [
       "'Dubey'"
      ]
     },
     "execution_count": 38,
     "metadata": {},
     "output_type": "execute_result"
    }
   ],
   "source": [
    "nest[3][2][0]"
   ]
  },
  {
   "cell_type": "markdown",
   "metadata": {
    "id": "AxSezuq3iqWe"
   },
   "source": [
    "### Dictionaries"
   ]
  },
  {
   "cell_type": "code",
   "execution_count": null,
   "metadata": {
    "collapsed": true,
    "id": "lm1k-UMCiqWe",
    "jupyter": {
     "outputs_hidden": true
    }
   },
   "outputs": [],
   "source": [
    "d = {'fname':'Sidhartha','lname':'Dubey'}"
   ]
  },
  {
   "cell_type": "code",
   "execution_count": null,
   "metadata": {
    "colab": {
     "base_uri": "https://localhost:8080/"
    },
    "executionInfo": {
     "elapsed": 1044,
     "status": "ok",
     "timestamp": 1679912274699,
     "user": {
      "displayName": "Siddhartha Dubey",
      "userId": "09354983140130279804"
     },
     "user_tz": -330
    },
    "id": "RbPgvK3ViqWe",
    "outputId": "077a1bfe-6b87-430f-b4e7-af14ce2841d8"
   },
   "outputs": [
    {
     "data": {
      "text/plain": [
       "{'fname': 'Sidhartha', 'lname': 'Dubey'}"
      ]
     },
     "execution_count": 40,
     "metadata": {},
     "output_type": "execute_result"
    }
   ],
   "source": [
    "d"
   ]
  },
  {
   "cell_type": "code",
   "execution_count": null,
   "metadata": {
    "colab": {
     "base_uri": "https://localhost:8080/",
     "height": 35
    },
    "executionInfo": {
     "elapsed": 5,
     "status": "ok",
     "timestamp": 1679912282050,
     "user": {
      "displayName": "Siddhartha Dubey",
      "userId": "09354983140130279804"
     },
     "user_tz": -330
    },
    "id": "rSqORtFWiqWe",
    "outputId": "f9bc6a43-1a71-4d47-fec5-204a849dcadf"
   },
   "outputs": [
    {
     "data": {
      "application/vnd.google.colaboratory.intrinsic+json": {
       "type": "string"
      },
      "text/plain": [
       "'Sidhartha'"
      ]
     },
     "execution_count": 41,
     "metadata": {},
     "output_type": "execute_result"
    }
   ],
   "source": [
    "d['fname']"
   ]
  },
  {
   "cell_type": "markdown",
   "metadata": {
    "id": "GqOX41MdiqWe"
   },
   "source": [
    "### Booleans"
   ]
  },
  {
   "cell_type": "code",
   "execution_count": null,
   "metadata": {
    "colab": {
     "base_uri": "https://localhost:8080/"
    },
    "executionInfo": {
     "elapsed": 2,
     "status": "ok",
     "timestamp": 1679912297843,
     "user": {
      "displayName": "Siddhartha Dubey",
      "userId": "09354983140130279804"
     },
     "user_tz": -330
    },
    "id": "NL3eE2XLiqWe",
    "outputId": "1fd67934-8185-4057-89de-2900c0f27072"
   },
   "outputs": [
    {
     "data": {
      "text/plain": [
       "True"
      ]
     },
     "execution_count": 42,
     "metadata": {},
     "output_type": "execute_result"
    }
   ],
   "source": [
    "True"
   ]
  },
  {
   "cell_type": "code",
   "execution_count": null,
   "metadata": {
    "colab": {
     "base_uri": "https://localhost:8080/"
    },
    "executionInfo": {
     "elapsed": 870,
     "status": "ok",
     "timestamp": 1679912299325,
     "user": {
      "displayName": "Siddhartha Dubey",
      "userId": "09354983140130279804"
     },
     "user_tz": -330
    },
    "id": "zLFt1JUuiqWe",
    "outputId": "9f4f5b8c-b7f8-47ea-c81d-ad070c26832e"
   },
   "outputs": [
    {
     "data": {
      "text/plain": [
       "False"
      ]
     },
     "execution_count": 43,
     "metadata": {},
     "output_type": "execute_result"
    }
   ],
   "source": [
    "False"
   ]
  },
  {
   "cell_type": "markdown",
   "metadata": {
    "id": "U3AaW95ciqWf"
   },
   "source": [
    "### Tuples "
   ]
  },
  {
   "cell_type": "code",
   "execution_count": null,
   "metadata": {
    "collapsed": true,
    "id": "qN6Nb2ysiqWf",
    "jupyter": {
     "outputs_hidden": true
    }
   },
   "outputs": [],
   "source": [
    "t = (1,2,3)"
   ]
  },
  {
   "cell_type": "code",
   "execution_count": null,
   "metadata": {
    "colab": {
     "base_uri": "https://localhost:8080/"
    },
    "executionInfo": {
     "elapsed": 3,
     "status": "ok",
     "timestamp": 1679912302622,
     "user": {
      "displayName": "Siddhartha Dubey",
      "userId": "09354983140130279804"
     },
     "user_tz": -330
    },
    "id": "1uVNZJ1YiqWf",
    "outputId": "bcc00e8d-3f05-4e5a-b7a7-de3690876407"
   },
   "outputs": [
    {
     "data": {
      "text/plain": [
       "1"
      ]
     },
     "execution_count": 45,
     "metadata": {},
     "output_type": "execute_result"
    }
   ],
   "source": [
    "t[0]"
   ]
  },
  {
   "cell_type": "code",
   "execution_count": null,
   "metadata": {
    "colab": {
     "base_uri": "https://localhost:8080/",
     "height": 165
    },
    "executionInfo": {
     "elapsed": 4,
     "status": "error",
     "timestamp": 1679912303993,
     "user": {
      "displayName": "Siddhartha Dubey",
      "userId": "09354983140130279804"
     },
     "user_tz": -330
    },
    "id": "1FMpbFJ3iqWf",
    "outputId": "e526f4c4-e593-406b-8c06-28825b599b5b"
   },
   "outputs": [
    {
     "ename": "TypeError",
     "evalue": "ignored",
     "output_type": "error",
     "traceback": [
      "\u001b[0;31m---------------------------------------------------------------------------\u001b[0m",
      "\u001b[0;31mTypeError\u001b[0m                                 Traceback (most recent call last)",
      "\u001b[0;32m<ipython-input-46-93bfe9be1549>\u001b[0m in \u001b[0;36m<module>\u001b[0;34m\u001b[0m\n\u001b[0;32m----> 1\u001b[0;31m \u001b[0mt\u001b[0m\u001b[0;34m[\u001b[0m\u001b[0;36m0\u001b[0m\u001b[0;34m]\u001b[0m \u001b[0;34m=\u001b[0m \u001b[0;34m'NEW'\u001b[0m\u001b[0;34m\u001b[0m\u001b[0;34m\u001b[0m\u001b[0m\n\u001b[0m",
      "\u001b[0;31mTypeError\u001b[0m: 'tuple' object does not support item assignment"
     ]
    }
   ],
   "source": [
    "t[0] = 'NEW'"
   ]
  },
  {
   "cell_type": "markdown",
   "metadata": {
    "id": "WGk4FNQmk7TE"
   },
   "source": [
    "Tuple is immuatable. So we can not add new item here."
   ]
  },
  {
   "cell_type": "markdown",
   "metadata": {
    "id": "7X8V_rkyiqWf"
   },
   "source": [
    "### Sets"
   ]
  },
  {
   "cell_type": "code",
   "execution_count": null,
   "metadata": {
    "id": "2J6O5mBXiqWf",
    "outputId": "45da00d4-1ecb-4d4d-eb7b-7df50b684002"
   },
   "outputs": [
    {
     "data": {
      "text/plain": [
       "{1, 2, 3}"
      ]
     },
     "execution_count": 45,
     "metadata": {},
     "output_type": "execute_result"
    }
   ],
   "source": [
    "{1,2,3}"
   ]
  },
  {
   "cell_type": "code",
   "execution_count": null,
   "metadata": {
    "id": "hrJ3vyXgiqWf",
    "outputId": "ec580b6e-a816-4fb0-b59b-a170e195ce5b"
   },
   "outputs": [
    {
     "data": {
      "text/plain": [
       "{1, 2, 3}"
      ]
     },
     "execution_count": 46,
     "metadata": {},
     "output_type": "execute_result"
    }
   ],
   "source": [
    "{1,2,3,1,2,1,2,3,3,3,3,2,2,2,1,1,2}"
   ]
  },
  {
   "cell_type": "markdown",
   "metadata": {
    "id": "O7FpUwlxlA6c"
   },
   "source": [
    "Set does not allow duplicate values, it simply ignore it."
   ]
  }
 ],
 "metadata": {
  "colab": {
   "provenance": []
  },
  "kernelspec": {
   "display_name": "Python 3 (ipykernel)",
   "language": "python",
   "name": "python3"
  },
  "language_info": {
   "codemirror_mode": {
    "name": "ipython",
    "version": 3
   },
   "file_extension": ".py",
   "mimetype": "text/x-python",
   "name": "python",
   "nbconvert_exporter": "python",
   "pygments_lexer": "ipython3",
   "version": "3.10.4"
  }
 },
 "nbformat": 4,
 "nbformat_minor": 4
}
