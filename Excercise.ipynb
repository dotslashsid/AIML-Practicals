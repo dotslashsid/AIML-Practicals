{
 "cells": [
  {
   "cell_type": "markdown",
   "metadata": {
    "id": "Er67vSQ5qy2v"
   },
   "source": [
    "___\n",
    "\n",
    "*** Python Data Types Exercise\n",
    "\n"
   ]
  },
  {
   "cell_type": "markdown",
   "metadata": {
    "id": "4pJfKsbFqy2x"
   },
   "source": [
    "## Exercises\n",
    "\n"
   ]
  },
  {
   "cell_type": "markdown",
   "metadata": {
    "id": "DpAoRxqrqy2x"
   },
   "source": [
    "** What is 8 to the power of 5?**"
   ]
  },
  {
   "cell_type": "code",
   "execution_count": 1,
   "metadata": {
    "colab": {
     "base_uri": "https://localhost:8080/"
    },
    "executionInfo": {
     "elapsed": 5,
     "status": "ok",
     "timestamp": 1679912684985,
     "user": {
      "displayName": "Siddhartha Dubey",
      "userId": "09354983140130279804"
     },
     "user_tz": -330
    },
    "id": "WsVokFktmQZI",
    "outputId": "9d3807d5-0946-4856-881e-3b5fe3cf8638",
    "tags": []
   },
   "outputs": [
    {
     "data": {
      "text/plain": [
       "32768"
      ]
     },
     "execution_count": 1,
     "metadata": {},
     "output_type": "execute_result"
    }
   ],
   "source": [
    "8**5"
   ]
  },
  {
   "cell_type": "markdown",
   "metadata": {
    "id": "GwtNSV5Xqy2y"
   },
   "source": [
    "** Split this string:**\n",
    "\n",
    "    s = \"Hi there Tushar!\"\n",
    "    \n",
    "**into a list. **"
   ]
  },
  {
   "cell_type": "code",
   "execution_count": 2,
   "metadata": {
    "colab": {
     "base_uri": "https://localhost:8080/"
    },
    "executionInfo": {
     "elapsed": 4,
     "status": "ok",
     "timestamp": 1679912736303,
     "user": {
      "displayName": "Siddhartha Dubey",
      "userId": "09354983140130279804"
     },
     "user_tz": -330
    },
    "id": "rB24dAn3mWL7",
    "outputId": "ff891117-d029-40a3-c049-1a6e399f9939",
    "tags": []
   },
   "outputs": [
    {
     "data": {
      "text/plain": [
       "['Hi', 'there', 'Siddhartha', 'Dubey!']"
      ]
     },
     "execution_count": 2,
     "metadata": {},
     "output_type": "execute_result"
    }
   ],
   "source": [
    "s=\"Hi there Siddhartha Dubey!\"\n",
    "s.split()"
   ]
  },
  {
   "cell_type": "markdown",
   "metadata": {
    "id": "DZ51UCcdqy2y"
   },
   "source": [
    "** Given the variables:**\n",
    "\n",
    "    planet = \"Mars\"\n",
    "    diameter = 15742\n",
    "\n",
    "** Use .format() to print the following string: **\n",
    "\n",
    "    The diameter of Mars is 15742 kilometers."
   ]
  },
  {
   "cell_type": "code",
   "execution_count": 3,
   "metadata": {
    "colab": {
     "base_uri": "https://localhost:8080/"
    },
    "executionInfo": {
     "elapsed": 1,
     "status": "ok",
     "timestamp": 1679912832698,
     "user": {
      "displayName": "Siddhartha Dubey",
      "userId": "09354983140130279804"
     },
     "user_tz": -330
    },
    "id": "2iMfuvP2mjKz",
    "outputId": "ac47e0bf-ec48-4639-cbd3-15ef41faecbc",
    "tags": []
   },
   "outputs": [
    {
     "name": "stdout",
     "output_type": "stream",
     "text": [
      "The diameter of Mars is 15742 kilometers\n"
     ]
    }
   ],
   "source": [
    "planet=\"Mars\"\n",
    "diameter=15742\n",
    "print(\"The diameter of {one} is {two} kilometers\".format(one=planet,two=diameter))"
   ]
  },
  {
   "cell_type": "markdown",
   "metadata": {
    "id": "uZ98Nb4Hqy2z"
   },
   "source": [
    "** Given this nested list, use indexing to grab the word \"hii\" **"
   ]
  },
  {
   "cell_type": "code",
   "execution_count": 4,
   "metadata": {
    "colab": {
     "base_uri": "https://localhost:8080/"
    },
    "collapsed": true,
    "executionInfo": {
     "elapsed": 4,
     "status": "ok",
     "timestamp": 1679912879934,
     "user": {
      "displayName": "Siddhartha Dubey",
      "userId": "09354983140130279804"
     },
     "user_tz": -330
    },
    "id": "hSRLGFyNqy2z",
    "jupyter": {
     "outputs_hidden": true
    },
    "outputId": "1f17486f-730d-45cd-fdad-81af6470b492",
    "tags": []
   },
   "outputs": [
    {
     "data": {
      "text/plain": [
       "['hii']"
      ]
     },
     "execution_count": 4,
     "metadata": {},
     "output_type": "execute_result"
    }
   ],
   "source": [
    "lst = [1,2,[3,4],[5,[100,200,['hii']],23,11],10,7]\n",
    "lst[3][1][2]"
   ]
  },
  {
   "cell_type": "code",
   "execution_count": 5,
   "metadata": {
    "colab": {
     "base_uri": "https://localhost:8080/",
     "height": 35
    },
    "executionInfo": {
     "elapsed": 5,
     "status": "ok",
     "timestamp": 1679912952160,
     "user": {
      "displayName": "Siddhartha Dubey",
      "userId": "09354983140130279804"
     },
     "user_tz": -330
    },
    "id": "3P9WYHi8qy20",
    "outputId": "4e437cc4-978a-4aa4-a0d5-72063dd8616d",
    "tags": []
   },
   "outputs": [
    {
     "data": {
      "text/plain": [
       "'hii'"
      ]
     },
     "execution_count": 5,
     "metadata": {},
     "output_type": "execute_result"
    }
   ],
   "source": [
    "d = {'k1':[1,2,3,{'tricky':['OK','woman','deception',{'Rule':[1,2,3,'hii']}]}]}\n",
    "d['k1'][3]['tricky'][3]['Rule'][3]"
   ]
  },
  {
   "cell_type": "markdown",
   "metadata": {
    "id": "Cp1OUCHbqy20"
   },
   "source": [
    "** What is the main difference between a tuple and a list? **"
   ]
  },
  {
   "cell_type": "markdown",
   "metadata": {
    "id": "5oTZzw3hnyQk"
   },
   "source": [
    "In Python, a list and a tuple are both used to store a collection of elements, but there are some differences between them:\n",
    "\n",
    "**Mutability**: Lists are mutable, meaning you can change their contents by adding, removing or modifying elements. Tuples are immutable, meaning once you create a tuple, you cannot modify its contents.\n",
    "\n",
    "**Syntax**: A list is defined using square brackets [] and elements are separated by commas. A tuple is defined using parentheses () and elements are separated by commas.\n",
    "\n",
    "**Length**: Lists can have any number of elements, while tuples have a fixed length.\n",
    "\n",
    "**Performance**: Tuples are faster than lists for indexing and iteration, as they are stored in a more compact format in memory."
   ]
  },
  {
   "cell_type": "markdown",
   "metadata": {
    "id": "fSmfb27aqy20"
   },
   "source": [
    "** Create a function that grabs the email website domain from a string in the form: **\n",
    "\n",
    "   tushar@ves.ac.in\n",
    "    \n",
    "**So for example, passing \"tushar@ves.ac.in\" would return: ves.ac.in**"
   ]
  },
  {
   "cell_type": "code",
   "execution_count": 6,
   "metadata": {
    "colab": {
     "base_uri": "https://localhost:8080/"
    },
    "executionInfo": {
     "elapsed": 682,
     "status": "ok",
     "timestamp": 1679913478794,
     "user": {
      "displayName": "Siddhartha Dubey",
      "userId": "09354983140130279804"
     },
     "user_tz": -330
    },
    "id": "27Diiv9KoDek",
    "outputId": "ff9a8513-177e-49bc-c077-360a3aaf4616",
    "tags": []
   },
   "outputs": [
    {
     "name": "stdout",
     "output_type": "stream",
     "text": [
      "gmail.com\n"
     ]
    }
   ],
   "source": [
    "def grabDomain(email):\n",
    "  domain=email.split('@')[1]\n",
    "  print(domain)\n",
    "\n",
    "grabDomain(\"siddharthakdubey@gmail.com\");"
   ]
  },
  {
   "cell_type": "markdown",
   "metadata": {
    "id": "iFTuygGbqy21"
   },
   "source": [
    "** Create a basic function that returns True if the word 'cat' is contained in the input string.  Do account for capitalization. **"
   ]
  },
  {
   "cell_type": "code",
   "execution_count": 7,
   "metadata": {
    "executionInfo": {
     "elapsed": 2,
     "status": "ok",
     "timestamp": 1679913723678,
     "user": {
      "displayName": "Siddhartha Dubey",
      "userId": "09354983140130279804"
     },
     "user_tz": -330
    },
    "id": "MvMWtP2ip1Y7",
    "tags": []
   },
   "outputs": [],
   "source": [
    "def findcat(sentence):\n",
    "  if(sentence.find('cat')!=-1):\n",
    "    return True\n",
    "  else:\n",
    "    return False"
   ]
  },
  {
   "cell_type": "code",
   "execution_count": 8,
   "metadata": {
    "colab": {
     "base_uri": "https://localhost:8080/"
    },
    "executionInfo": {
     "elapsed": 1,
     "status": "ok",
     "timestamp": 1679913734808,
     "user": {
      "displayName": "Siddhartha Dubey",
      "userId": "09354983140130279804"
     },
     "user_tz": -330
    },
    "id": "Ako4X3kvqy21",
    "outputId": "6d887fa1-d663-40ef-f1af-22e5b227bee8",
    "tags": []
   },
   "outputs": [
    {
     "data": {
      "text/plain": [
       "True"
      ]
     },
     "execution_count": 8,
     "metadata": {},
     "output_type": "execute_result"
    }
   ],
   "source": [
    "findcat('Is there a cat here?')"
   ]
  },
  {
   "cell_type": "markdown",
   "metadata": {
    "id": "MdDH1l8Nqy21"
   },
   "source": [
    "** Create a function that counts the number of times the word \"cat\" occurs in a string. Again ignore edge cases. **"
   ]
  },
  {
   "cell_type": "code",
   "execution_count": 9,
   "metadata": {
    "executionInfo": {
     "elapsed": 2,
     "status": "ok",
     "timestamp": 1679914261709,
     "user": {
      "displayName": "Siddhartha Dubey",
      "userId": "09354983140130279804"
     },
     "user_tz": -330
    },
    "id": "R2Yk_Jiiqb3V",
    "tags": []
   },
   "outputs": [],
   "source": [
    "def countDog(sentence):\n",
    "  a=sentence.split()\n",
    "  count=0\n",
    "  for i in range(len(a)):\n",
    "    if(a[i]=='cat'):\n",
    "      count=count+1\n",
    "\n",
    "  print(count)"
   ]
  },
  {
   "cell_type": "code",
   "execution_count": 10,
   "metadata": {
    "colab": {
     "base_uri": "https://localhost:8080/"
    },
    "executionInfo": {
     "elapsed": 2,
     "status": "ok",
     "timestamp": 1679914265224,
     "user": {
      "displayName": "Siddhartha Dubey",
      "userId": "09354983140130279804"
     },
     "user_tz": -330
    },
    "id": "7HbON8Tuqy21",
    "outputId": "a1b81c51-47ca-4e5f-f97c-a799f5c37fb2",
    "tags": []
   },
   "outputs": [
    {
     "name": "stdout",
     "output_type": "stream",
     "text": [
      "1\n"
     ]
    }
   ],
   "source": [
    "countDog('This cat runs faster than the other cats dude!')"
   ]
  },
  {
   "cell_type": "markdown",
   "metadata": {
    "id": "6EFA5G5sqy21"
   },
   "source": [
    "** Use lambda expressions and the filter() function to filter out words from a list that don't start with the letter 's'. For example:**\n",
    "\n",
    "    seq = ['soup','dog','salad','cat','great']\n",
    "\n",
    "**should be filtered down to:**\n",
    "\n",
    "    ['soup','salad']"
   ]
  },
  {
   "cell_type": "code",
   "execution_count": 11,
   "metadata": {
    "colab": {
     "base_uri": "https://localhost:8080/"
    },
    "collapsed": true,
    "executionInfo": {
     "elapsed": 3,
     "status": "ok",
     "timestamp": 1679914415106,
     "user": {
      "displayName": "Siddhartha Dubey",
      "userId": "09354983140130279804"
     },
     "user_tz": -330
    },
    "id": "wMVirkdzqy21",
    "jupyter": {
     "outputs_hidden": true
    },
    "outputId": "826bcb8f-5894-419f-aedb-a8a05ed11dab",
    "tags": []
   },
   "outputs": [
    {
     "name": "stdout",
     "output_type": "stream",
     "text": [
      "['dog', 'cat', 'great']\n"
     ]
    }
   ],
   "source": [
    "seq = ['soup','dog','salad','cat','great']\n",
    "filtered_seq = filter(lambda x: x[0] != 's', seq)\n",
    "print(list(filtered_seq))"
   ]
  },
  {
   "cell_type": "markdown",
   "metadata": {
    "id": "v4SmoJ_Zqy22"
   },
   "source": [
    "### Final Problem\n",
    "**You are driving a little too fast, and a police officer stops you. Write a function\n",
    "  to return one of 3 possible results: \"No ticket\", \"Small ticket\", or \"Big Ticket\". \n",
    "  If your speed is 60 or less, the result is \"No Ticket\". If speed is between 61 \n",
    "  and 80 inclusive, the result is \"Small Ticket\". If speed is 81 or more, the result is \"Big    Ticket\". Unless it is your birthday (encoded as a boolean value in the parameters of the function) -- on your birthday, your speed can be 5 higher in all \n",
    "  cases. **"
   ]
  },
  {
   "cell_type": "code",
   "execution_count": 12,
   "metadata": {
    "collapsed": true,
    "executionInfo": {
     "elapsed": 2,
     "status": "ok",
     "timestamp": 1679914685705,
     "user": {
      "displayName": "Siddhartha Dubey",
      "userId": "09354983140130279804"
     },
     "user_tz": -330
    },
    "id": "cE1-aMWYqy22",
    "jupyter": {
     "outputs_hidden": true
    },
    "tags": []
   },
   "outputs": [],
   "source": [
    "def caught_speeding(speed, is_birthday):\n",
    "    if(is_birthday==True):\n",
    "      if(speed<65):\n",
    "        return \"No Ticket\"\n",
    "      elif(66<speed<85):\n",
    "        return \"Small Ticket\"\n",
    "      else:\n",
    "        return \"Big Ticket\"\n",
    "    else:\n",
    "      if(speed<60):\n",
    "        return \"No Ticket\"\n",
    "      elif(61<speed<80):\n",
    "        return \"Small Ticket\"\n",
    "      else:\n",
    "        return \"Big Ticket\"\n"
   ]
  },
  {
   "cell_type": "code",
   "execution_count": 13,
   "metadata": {
    "colab": {
     "base_uri": "https://localhost:8080/",
     "height": 35
    },
    "executionInfo": {
     "elapsed": 642,
     "status": "ok",
     "timestamp": 1679914690410,
     "user": {
      "displayName": "Siddhartha Dubey",
      "userId": "09354983140130279804"
     },
     "user_tz": -330
    },
    "id": "GdoQLAH2qy22",
    "outputId": "dd246704-b999-4752-f58a-1a0534d12087",
    "tags": []
   },
   "outputs": [
    {
     "data": {
      "text/plain": [
       "'Small Ticket'"
      ]
     },
     "execution_count": 13,
     "metadata": {},
     "output_type": "execute_result"
    }
   ],
   "source": [
    "caught_speeding(81,True)"
   ]
  },
  {
   "cell_type": "code",
   "execution_count": 14,
   "metadata": {
    "colab": {
     "base_uri": "https://localhost:8080/",
     "height": 35
    },
    "executionInfo": {
     "elapsed": 440,
     "status": "ok",
     "timestamp": 1679914702006,
     "user": {
      "displayName": "Siddhartha Dubey",
      "userId": "09354983140130279804"
     },
     "user_tz": -330
    },
    "id": "03FD-Kbtqy23",
    "outputId": "368f0e9f-beaa-4095-cc4c-9e8b624f9a3f",
    "tags": []
   },
   "outputs": [
    {
     "data": {
      "text/plain": [
       "'Big Ticket'"
      ]
     },
     "execution_count": 14,
     "metadata": {},
     "output_type": "execute_result"
    }
   ],
   "source": [
    "caught_speeding(81,False)"
   ]
  },
  {
   "cell_type": "markdown",
   "metadata": {
    "id": "hwUqioX1qy23"
   },
   "source": [
    "# Great job!"
   ]
  }
 ],
 "metadata": {
  "colab": {
   "provenance": []
  },
  "kernelspec": {
   "display_name": "Python 3 (ipykernel)",
   "language": "python",
   "name": "python3"
  },
  "language_info": {
   "codemirror_mode": {
    "name": "ipython",
    "version": 3
   },
   "file_extension": ".py",
   "mimetype": "text/x-python",
   "name": "python",
   "nbconvert_exporter": "python",
   "pygments_lexer": "ipython3",
   "version": "3.10.4"
  }
 },
 "nbformat": 4,
 "nbformat_minor": 4
}
